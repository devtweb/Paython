{
 "cells": [
  {
   "cell_type": "code",
   "execution_count": 1,
   "metadata": {
    "collapsed": true
   },
   "outputs": [],
   "source": [
    "# a collection of instructions / code "
   ]
  },
  {
   "cell_type": "code",
   "execution_count": 3,
   "metadata": {},
   "outputs": [
    {
     "name": "stdout",
     "output_type": "stream",
     "text": [
      "I'm not part of the function\n"
     ]
    }
   ],
   "source": [
    "def func1():\n",
    "    print(\"Yay Func1 Works!\")\n",
    "    print(\"Let's Party Now\")\n",
    "print(\"I'm not part of the function\")"
   ]
  },
  {
   "cell_type": "code",
   "execution_count": 4,
   "metadata": {},
   "outputs": [
    {
     "name": "stdout",
     "output_type": "stream",
     "text": [
      "Yay Func1 Works!\n",
      "Let's Party Now\n"
     ]
    }
   ],
   "source": [
    "# Call the function \n",
    "func1()"
   ]
  },
  {
   "cell_type": "code",
   "execution_count": 5,
   "metadata": {
    "collapsed": true
   },
   "outputs": [],
   "source": [
    "# a function can be a mapping "
   ]
  },
  {
   "cell_type": "code",
   "execution_count": 6,
   "metadata": {},
   "outputs": [
    {
     "name": "stdout",
     "output_type": "stream",
     "text": [
      "6\n"
     ]
    }
   ],
   "source": [
    "def func2(x):\n",
    "    return 2*x\n",
    "\n",
    "a = func2(3)\n",
    "# a return value or output == 6\n",
    "print(a)"
   ]
  },
  {
   "cell_type": "code",
   "execution_count": 7,
   "metadata": {},
   "outputs": [
    {
     "name": "stdout",
     "output_type": "stream",
     "text": [
      "32\n"
     ]
    }
   ],
   "source": [
    "b = func2(16)\n",
    "print(b)"
   ]
  },
  {
   "cell_type": "code",
   "execution_count": 8,
   "metadata": {},
   "outputs": [
    {
     "name": "stdout",
     "output_type": "stream",
     "text": [
      "200\n"
     ]
    }
   ],
   "source": [
    "c = func2(100)\n",
    "print(c)"
   ]
  },
  {
   "cell_type": "code",
   "execution_count": 11,
   "metadata": {},
   "outputs": [
    {
     "name": "stdout",
     "output_type": "stream",
     "text": [
      "5000\n"
     ]
    }
   ],
   "source": [
    "# using more than one argument\n",
    "\n",
    "def func3(x, y):\n",
    "    return x * y"
   ]
  },
  {
   "cell_type": "code",
   "execution_count": 12,
   "metadata": {
    "collapsed": true
   },
   "outputs": [],
   "source": [
    "d = func3(100,50)"
   ]
  },
  {
   "cell_type": "code",
   "execution_count": 13,
   "metadata": {},
   "outputs": [
    {
     "name": "stdout",
     "output_type": "stream",
     "text": [
      "5000\n"
     ]
    }
   ],
   "source": [
    "print(d)"
   ]
  },
  {
   "cell_type": "code",
   "execution_count": 14,
   "metadata": {
    "collapsed": true
   },
   "outputs": [],
   "source": [
    "# combining functions\n",
    "\n",
    "def func4(x):\n",
    "    print(x)\n",
    "    print(\"in the function :(\")\n",
    "    return 3*x "
   ]
  },
  {
   "cell_type": "code",
   "execution_count": 15,
   "metadata": {},
   "outputs": [
    {
     "name": "stdout",
     "output_type": "stream",
     "text": [
      "5\n",
      "in the function :(\n"
     ]
    }
   ],
   "source": [
    "e = func4(5)"
   ]
  },
  {
   "cell_type": "code",
   "execution_count": 16,
   "metadata": {},
   "outputs": [
    {
     "name": "stdout",
     "output_type": "stream",
     "text": [
      "15\n"
     ]
    }
   ],
   "source": [
    "# print the value olding a function now \n",
    "print(e)"
   ]
  },
  {
   "cell_type": "code",
   "execution_count": 17,
   "metadata": {
    "collapsed": true
   },
   "outputs": [],
   "source": [
    "def func5(some_argument):\n",
    "    print(some_argument)\n",
    "    print(\"YAY!!\")"
   ]
  },
  {
   "cell_type": "code",
   "execution_count": 19,
   "metadata": {},
   "outputs": [
    {
     "name": "stdout",
     "output_type": "stream",
     "text": [
      "I guess so\n",
      "YAY!!\n"
     ]
    }
   ],
   "source": [
    "func5(\"I guess so\") # we aren't using a \"return\" value so the is no need for getting the function into a variable."
   ]
  },
  {
   "cell_type": "code",
   "execution_count": 20,
   "metadata": {
    "collapsed": true
   },
   "outputs": [],
   "source": [
    "# BMI Calc with Functions "
   ]
  },
  {
   "cell_type": "code",
   "execution_count": 21,
   "metadata": {
    "collapsed": true
   },
   "outputs": [],
   "source": [
    "# Individuals Info"
   ]
  },
  {
   "cell_type": "code",
   "execution_count": 44,
   "metadata": {},
   "outputs": [],
   "source": [
    "# First Subject \n",
    "name1 = \"Andy\"\n",
    "weight_kg1 = 70\n",
    "height_m1 = 1.77\n",
    "    \n",
    "# Second Subject \n",
    "name2 = \"Juan\"\n",
    "weight_kg2 = 90\n",
    "height_m2 = 2\n",
    "\n",
    "# Third Subject \n",
    "name3 = \"Leo\"\n",
    "weight_kg3 = 40\n",
    "height_m3 = 1.50\n",
    "    \n",
    "def bmi_calc(name, weight_kg, height_m):\n",
    "    bmi = weight_kg / (height_m ** 2 )\n",
    "    print(\"bmi :\")\n",
    "    print(bmi)\n",
    "    \n",
    "    if bmi < 25:\n",
    "        return name + \" You are healthy\"\n",
    "    else:\n",
    "        return name + \" you are fat :(\""
   ]
  },
  {
   "cell_type": "code",
   "execution_count": 51,
   "metadata": {},
   "outputs": [
    {
     "name": "stdout",
     "output_type": "stream",
     "text": [
      "bmi :\n",
      "22.34351559258195\n",
      "bmi :\n",
      "22.5\n",
      "bmi :\n",
      "17.77777777777778\n"
     ]
    }
   ],
   "source": [
    "sub1 = bmi_calc(name1, weight_kg1, height_m1)\n",
    "sub2 = bmi_calc(name2, weight_kg2, height_m2)\n",
    "sub3 = bmi_calc(name3, weight_kg3, height_m3)"
   ]
  },
  {
   "cell_type": "code",
   "execution_count": 56,
   "metadata": {},
   "outputs": [
    {
     "name": "stdout",
     "output_type": "stream",
     "text": [
      "Andy You are healthy\n",
      "Juan You are healthy\n",
      "Leo You are healthy\n"
     ]
    }
   ],
   "source": [
    "print(sub1)\n",
    "print(sub2)\n",
    "print(sub3)\n"
   ]
  },
  {
   "cell_type": "code",
   "execution_count": 58,
   "metadata": {
    "collapsed": true
   },
   "outputs": [],
   "source": [
    "# HOMEWORK\n",
    "# Convert Miles into Km\n",
    "# km = 1.6 * miles\n",
    "# km = convert(miles)"
   ]
  },
  {
   "cell_type": "code",
   "execution_count": null,
   "metadata": {
    "collapsed": true
   },
   "outputs": [],
   "source": []
  }
 ],
 "metadata": {
  "kernelspec": {
   "display_name": "Python 3",
   "language": "python",
   "name": "python3"
  },
  "language_info": {
   "codemirror_mode": {
    "name": "ipython",
    "version": 3
   },
   "file_extension": ".py",
   "mimetype": "text/x-python",
   "name": "python",
   "nbconvert_exporter": "python",
   "pygments_lexer": "ipython3",
   "version": "3.6.3"
  }
 },
 "nbformat": 4,
 "nbformat_minor": 2
}
