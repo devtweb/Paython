{
 "cells": [
  {
   "cell_type": "code",
   "execution_count": 12,
   "metadata": {},
   "outputs": [
    {
     "name": "stdout",
     "output_type": "stream",
     "text": [
      "a is bigger than b\n",
      "dah!\n"
     ]
    }
   ],
   "source": [
    "a = 10\n",
    "b = 2\n",
    "\n",
    "if a < b:\n",
    "    print(\"a is less than b\")\n",
    "    print(\"dah!\")\n",
    "elif a > b:\n",
    "    print(\"a is bigger than b\")\n",
    "    print('dah!')\n",
    "elif a == b:\n",
    "    print(\"both variables have the same value\")\n",
    "else :\n",
    "    print(\"Not true\")"
   ]
  },
  {
   "cell_type": "code",
   "execution_count": 13,
   "metadata": {
    "collapsed": true
   },
   "outputs": [],
   "source": [
    "#another way to put it on action is to..."
   ]
  },
  {
   "cell_type": "code",
   "execution_count": 17,
   "metadata": {},
   "outputs": [
    {
     "name": "stdout",
     "output_type": "stream",
     "text": [
      "both are equal\n"
     ]
    }
   ],
   "source": [
    "c = 20\n",
    "d = 20 \n",
    "\n",
    "if c < d:\n",
    "    print('c is less than d')\n",
    "else:\n",
    "    if c == d:\n",
    "        print('both are equal')\n",
    "    else:\n",
    "        print('c is grater than d')"
   ]
  },
  {
   "cell_type": "code",
   "execution_count": 18,
   "metadata": {
    "collapsed": true
   },
   "outputs": [],
   "source": [
    "#Creating a BMI calculator"
   ]
  },
  {
   "cell_type": "code",
   "execution_count": 56,
   "metadata": {
    "scrolled": true
   },
   "outputs": [
    {
     "name": "stdout",
     "output_type": "stream",
     "text": [
      "bmi:\n",
      "24.6\n",
      "Results: \n",
      "Healthy BMI\n"
     ]
    }
   ],
   "source": [
    "#Objetive Info \n",
    "\n",
    "name = 'Andy A.'\n",
    "weight_kg = 77\n",
    "height_m =1.77\n",
    "\n",
    "#Operation \n",
    "\n",
    "bmi = weight_kg / (height_m ** 2)\n",
    "\n",
    "\n",
    "\n",
    "print('bmi:')\n",
    "print(round( bmi,1 ))\n",
    "\n",
    "if bmi < 25 :\n",
    "    print(\"Results: \")\n",
    "    print(\"Healthy BMI\")\n",
    "else: \n",
    "    if bmi >= 25 and bmi <= 29:\n",
    "        print(\"Overweight BMI\")\n",
    "    elif bmi >= 30 and bmi <= 39:\n",
    "        print (\"Obesity BMI ... please find help\")\n",
    "    else: \n",
    "        print(\"Extreme Obesity BMI ... be careful your big now\")"
   ]
  },
  {
   "cell_type": "code",
   "execution_count": null,
   "metadata": {
    "collapsed": true
   },
   "outputs": [],
   "source": []
  }
 ],
 "metadata": {
  "kernelspec": {
   "display_name": "Python 3",
   "language": "python",
   "name": "python3"
  },
  "language_info": {
   "codemirror_mode": {
    "name": "ipython",
    "version": 3
   },
   "file_extension": ".py",
   "mimetype": "text/x-python",
   "name": "python",
   "nbconvert_exporter": "python",
   "pygments_lexer": "ipython3",
   "version": "3.6.3"
  }
 },
 "nbformat": 4,
 "nbformat_minor": 2
}
